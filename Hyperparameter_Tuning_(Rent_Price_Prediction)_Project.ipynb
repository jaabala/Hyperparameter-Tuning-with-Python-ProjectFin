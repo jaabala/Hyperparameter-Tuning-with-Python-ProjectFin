{
  "cells": [
    {
      "cell_type": "markdown",
      "metadata": {
        "id": "IcGUDoSkBiT4"
      },
      "source": [
        "# <font color='#2F4F4F'>1. Defining the Question</font>"
      ]
    },
    {
      "cell_type": "markdown",
      "metadata": {
        "id": "6sg3Sq-kBiT5"
      },
      "source": [
        "### a) Specifying the Data Analysis Question\n",
        "\n",
        "As a Data Scientist working for Airbnb, you have been tasked to create a model that\n",
        "predicts Airbnb rental prices for the city of Amsterdam. Popularity for Airbnbs in\n",
        "Amsterdam has grown over the past years and you are required to build a solution the\n",
        "would make optimal predictions."
      ]
    },
    {
      "cell_type": "markdown",
      "metadata": {
        "id": "54AGppS1BiT6"
      },
      "source": [
        "### b) Defining the Metric for Success\n",
        "\n",
        "The metrics we will use to evaluate our model are RMSE and R2 scores."
      ]
    },
    {
      "cell_type": "markdown",
      "metadata": {
        "id": "In67Zlg2BiT7"
      },
      "source": [
        "### c) Understanding the Context \n",
        "\n",
        "Airbnb is an American vacation rental online marketplace company based in San\n",
        "Francisco, California, United States. Airbnb offers arrangement for lodging, primarily\n",
        "homestays, or tourism experiences. The company does not own any of the real estate\n",
        "listings, nor does it host events; it acts as a broker, receiving commissions from each\n",
        "booking."
      ]
    },
    {
      "cell_type": "markdown",
      "metadata": {
        "id": "VME7R5U9BiT8"
      },
      "source": [
        "### d) Recording the Experimental Design\n",
        "\n",
        "* Defining the Research Question\n",
        "* Data Importation\n",
        "* Data Exploration\n",
        "* Data Cleaning\n",
        "* Data Analysis (Univariate and Bivariate)\n",
        "* Data Preparation\n",
        "* Data Modeling\n",
        "* Model Evaluation\n",
        "* Challenging your Solution\n",
        "* Recommendations / Conclusion "
      ]
    },
    {
      "cell_type": "markdown",
      "metadata": {
        "id": "Ox4_7p-dBiT8"
      },
      "source": [
        "### e) Data Relevance\n",
        "\n",
        "The data provided was relevant to answering the research question."
      ]
    },
    {
      "cell_type": "markdown",
      "metadata": {
        "id": "C8P0JbeUBiT9"
      },
      "source": [
        "# <font color='#2F4F4F'>2. Data Cleaning & Preparation</font>"
      ]
    },
    {
      "cell_type": "code",
      "execution_count": null,
      "metadata": {
        "id": "7i0Z1TaoBiT-"
      },
      "outputs": [],
      "source": [
        "# loading libraries\n",
        "import pandas as pd\n",
        "import numpy as np\n",
        "import matplotlib.pyplot as plt\n",
        "import seaborn as sns\n",
        "\n",
        "pd.set_option('display.max.columns', None)\n",
        "pd.set_option('display.max_colwidth', None)\n",
        "%matplotlib inline"
      ]
    },
    {
      "cell_type": "code",
      "execution_count": null,
      "metadata": {
        "id": "hrt1AegqBiUD",
        "scrolled": true,
        "outputId": "563ce6e2-72fe-4856-b1fb-9c8af711e662"
      },
      "outputs": [
        {
          "data": {
            "text/html": [
              "<div>\n",
              "<style scoped>\n",
              "    .dataframe tbody tr th:only-of-type {\n",
              "        vertical-align: middle;\n",
              "    }\n",
              "\n",
              "    .dataframe tbody tr th {\n",
              "        vertical-align: top;\n",
              "    }\n",
              "\n",
              "    .dataframe thead th {\n",
              "        text-align: right;\n",
              "    }\n",
              "</style>\n",
              "<table border=\"1\" class=\"dataframe\">\n",
              "  <thead>\n",
              "    <tr style=\"text-align: right;\">\n",
              "      <th></th>\n",
              "      <th>id</th>\n",
              "      <th>name</th>\n",
              "      <th>host_id</th>\n",
              "      <th>host_name</th>\n",
              "      <th>neighbourhood_group</th>\n",
              "      <th>neighbourhood</th>\n",
              "      <th>latitude</th>\n",
              "      <th>longitude</th>\n",
              "      <th>room_type</th>\n",
              "      <th>price</th>\n",
              "      <th>minimum_nights</th>\n",
              "      <th>number_of_reviews</th>\n",
              "      <th>last_review</th>\n",
              "      <th>reviews_per_month</th>\n",
              "      <th>calculated_host_listings_count</th>\n",
              "      <th>availability_365</th>\n",
              "    </tr>\n",
              "  </thead>\n",
              "  <tbody>\n",
              "    <tr>\n",
              "      <th>856</th>\n",
              "      <td>1501539</td>\n",
              "      <td>Modern spacious apt w private P.</td>\n",
              "      <td>6679503</td>\n",
              "      <td>Jeroen</td>\n",
              "      <td>NaN</td>\n",
              "      <td>Bos en Lommer</td>\n",
              "      <td>52.37656</td>\n",
              "      <td>4.84714</td>\n",
              "      <td>Entire home/apt</td>\n",
              "      <td>129</td>\n",
              "      <td>3</td>\n",
              "      <td>12</td>\n",
              "      <td>2017-06-07</td>\n",
              "      <td>0.15</td>\n",
              "      <td>1</td>\n",
              "      <td>0</td>\n",
              "    </tr>\n",
              "    <tr>\n",
              "      <th>5779</th>\n",
              "      <td>12120837</td>\n",
              "      <td>Spacious room near Amsterdam Central</td>\n",
              "      <td>64618288</td>\n",
              "      <td>Andra</td>\n",
              "      <td>NaN</td>\n",
              "      <td>Noord-West</td>\n",
              "      <td>52.42343</td>\n",
              "      <td>4.88500</td>\n",
              "      <td>Private room</td>\n",
              "      <td>70</td>\n",
              "      <td>2</td>\n",
              "      <td>131</td>\n",
              "      <td>2020-02-14</td>\n",
              "      <td>2.73</td>\n",
              "      <td>1</td>\n",
              "      <td>172</td>\n",
              "    </tr>\n",
              "    <tr>\n",
              "      <th>14856</th>\n",
              "      <td>30055216</td>\n",
              "      <td>LOVELY BRIGHT APARTMENT IN THE PIPE (CENTRE)</td>\n",
              "      <td>225854778</td>\n",
              "      <td>Gregor</td>\n",
              "      <td>NaN</td>\n",
              "      <td>De Pijp - Rivierenbuurt</td>\n",
              "      <td>52.35728</td>\n",
              "      <td>4.88933</td>\n",
              "      <td>Entire home/apt</td>\n",
              "      <td>450</td>\n",
              "      <td>2</td>\n",
              "      <td>0</td>\n",
              "      <td>NaN</td>\n",
              "      <td>NaN</td>\n",
              "      <td>1</td>\n",
              "      <td>0</td>\n",
              "    </tr>\n",
              "  </tbody>\n",
              "</table>\n",
              "</div>"
            ],
            "text/plain": [
              "             id                                          name    host_id  \\\n",
              "856     1501539              Modern spacious apt w private P.    6679503   \n",
              "5779   12120837          Spacious room near Amsterdam Central   64618288   \n",
              "14856  30055216  LOVELY BRIGHT APARTMENT IN THE PIPE (CENTRE)  225854778   \n",
              "\n",
              "      host_name  neighbourhood_group            neighbourhood  latitude  \\\n",
              "856      Jeroen                  NaN            Bos en Lommer  52.37656   \n",
              "5779      Andra                  NaN               Noord-West  52.42343   \n",
              "14856    Gregor                  NaN  De Pijp - Rivierenbuurt  52.35728   \n",
              "\n",
              "       longitude        room_type  price  minimum_nights  number_of_reviews  \\\n",
              "856      4.84714  Entire home/apt    129               3                 12   \n",
              "5779     4.88500     Private room     70               2                131   \n",
              "14856    4.88933  Entire home/apt    450               2                  0   \n",
              "\n",
              "      last_review  reviews_per_month  calculated_host_listings_count  \\\n",
              "856    2017-06-07               0.15                               1   \n",
              "5779   2020-02-14               2.73                               1   \n",
              "14856         NaN                NaN                               1   \n",
              "\n",
              "       availability_365  \n",
              "856                   0  \n",
              "5779                172  \n",
              "14856                 0  "
            ]
          },
          "execution_count": 2,
          "metadata": {},
          "output_type": "execute_result"
        }
      ],
      "source": [
        "# loading and previewing dataset\n",
        "df = pd.read_csv('listing_summary.csv')\n",
        "df.sample(3)"
      ]
    },
    {
      "cell_type": "code",
      "execution_count": null,
      "metadata": {
        "id": "8nHmaa4tBiUL",
        "outputId": "15e8c10a-99a4-47ea-c33b-740dde99d33c"
      },
      "outputs": [
        {
          "data": {
            "text/html": [
              "<div>\n",
              "<style scoped>\n",
              "    .dataframe tbody tr th:only-of-type {\n",
              "        vertical-align: middle;\n",
              "    }\n",
              "\n",
              "    .dataframe tbody tr th {\n",
              "        vertical-align: top;\n",
              "    }\n",
              "\n",
              "    .dataframe thead th {\n",
              "        text-align: right;\n",
              "    }\n",
              "</style>\n",
              "<table border=\"1\" class=\"dataframe\">\n",
              "  <thead>\n",
              "    <tr style=\"text-align: right;\">\n",
              "      <th></th>\n",
              "      <th>0</th>\n",
              "    </tr>\n",
              "  </thead>\n",
              "  <tbody>\n",
              "    <tr>\n",
              "      <th>0</th>\n",
              "      <td>room_id: A unique number identifying an Airbnb listing.</td>\n",
              "    </tr>\n",
              "    <tr>\n",
              "      <th>1</th>\n",
              "      <td>host_id: A unique number identifying an Airbnb host.</td>\n",
              "    </tr>\n",
              "    <tr>\n",
              "      <th>2</th>\n",
              "      <td>neighborhood: A subregion of the city or search area for which the survey is carried out. For some cities there is no neighbourhood information.</td>\n",
              "    </tr>\n",
              "    <tr>\n",
              "      <th>3</th>\n",
              "      <td>room_type: One of “Entire home/apt”, “Private room”, or “Shared room”.</td>\n",
              "    </tr>\n",
              "    <tr>\n",
              "      <th>4</th>\n",
              "      <td>host_response_rate: The rate at which the particular host responds to the customers.</td>\n",
              "    </tr>\n",
              "    <tr>\n",
              "      <th>5</th>\n",
              "      <td>price: The price (in $US) for a night stay. In early surveys, there may be some values that were recorded by month.</td>\n",
              "    </tr>\n",
              "    <tr>\n",
              "      <th>6</th>\n",
              "      <td>accomodates: The number of guests a listing can accommodate.</td>\n",
              "    </tr>\n",
              "    <tr>\n",
              "      <th>7</th>\n",
              "      <td>bathrooms: The number of bathrooms a listing offers.</td>\n",
              "    </tr>\n",
              "    <tr>\n",
              "      <th>8</th>\n",
              "      <td>bedrooms: The number of bedrooms a listing offers.</td>\n",
              "    </tr>\n",
              "    <tr>\n",
              "      <th>9</th>\n",
              "      <td>beds: The number of beds a listing offers.</td>\n",
              "    </tr>\n",
              "    <tr>\n",
              "      <th>10</th>\n",
              "      <td>minimum_nights: The minimum stay for a visit, as posted by the host.</td>\n",
              "    </tr>\n",
              "    <tr>\n",
              "      <th>11</th>\n",
              "      <td>maximum nights: The maximum stay for a visit, as posted by the host.</td>\n",
              "    </tr>\n",
              "    <tr>\n",
              "      <th>12</th>\n",
              "      <td>overall_satisfaction: The average rating (out of five) that the listing has received from those visitors who left a review.</td>\n",
              "    </tr>\n",
              "    <tr>\n",
              "      <th>13</th>\n",
              "      <td>number_of_reviews: The number of reviews that a listing has received. Airbnb has said that 70% of visits end up with a review, so the number of reviews can be used to estimate the number of visits. Note that such an estimate will not be reliable for an individual listing (especially as reviews occasionally vanish from the site), but over a city as a whole it should be a useful metric of traffic.</td>\n",
              "    </tr>\n",
              "    <tr>\n",
              "      <th>14</th>\n",
              "      <td>reviews_per_month: The number of reviews that a listing has received per month.</td>\n",
              "    </tr>\n",
              "    <tr>\n",
              "      <th>15</th>\n",
              "      <td>host_listings_count: The number of listings for a particular host.</td>\n",
              "    </tr>\n",
              "    <tr>\n",
              "      <th>16</th>\n",
              "      <td>availability_365: The number of days for which a particular host is available in a year.</td>\n",
              "    </tr>\n",
              "  </tbody>\n",
              "</table>\n",
              "</div>"
            ],
            "text/plain": [
              "                                                                                                                                                                                                                                                                                                                                                                                                                 0\n",
              "0                                                                                                                                                                                                                                                                                                                                                          room_id: A unique number identifying an Airbnb listing.\n",
              "1                                                                                                                                                                                                                                                                                                                                                             host_id: A unique number identifying an Airbnb host.\n",
              "2                                                                                                                                                                                                                                                                 neighborhood: A subregion of the city or search area for which the survey is carried out. For some cities there is no neighbourhood information.\n",
              "3                                                                                                                                                                                                                                                                                                                                           room_type: One of “Entire home/apt”, “Private room”, or “Shared room”.\n",
              "4                                                                                                                                                                                                                                                                                                                             host_response_rate: The rate at which the particular host responds to the customers.\n",
              "5                                                                                                                                                                                                                                                                                              price: The price (in $US) for a night stay. In early surveys, there may be some values that were recorded by month.\n",
              "6                                                                                                                                                                                                                                                                                                                                                     accomodates: The number of guests a listing can accommodate.\n",
              "7                                                                                                                                                                                                                                                                                                                                                             bathrooms: The number of bathrooms a listing offers.\n",
              "8                                                                                                                                                                                                                                                                                                                                                               bedrooms: The number of bedrooms a listing offers.\n",
              "9                                                                                                                                                                                                                                                                                                                                                                       beds: The number of beds a listing offers.\n",
              "10                                                                                                                                                                                                                                                                                                                                            minimum_nights: The minimum stay for a visit, as posted by the host.\n",
              "11                                                                                                                                                                                                                                                                                                                                            maximum nights: The maximum stay for a visit, as posted by the host.\n",
              "12                                                                                                                                                                                                                                                                                     overall_satisfaction: The average rating (out of five) that the listing has received from those visitors who left a review.\n",
              "13  number_of_reviews: The number of reviews that a listing has received. Airbnb has said that 70% of visits end up with a review, so the number of reviews can be used to estimate the number of visits. Note that such an estimate will not be reliable for an individual listing (especially as reviews occasionally vanish from the site), but over a city as a whole it should be a useful metric of traffic.\n",
              "14                                                                                                                                                                                                                                                                                                                                 reviews_per_month: The number of reviews that a listing has received per month.\n",
              "15                                                                                                                                                                                                                                                                                                                                              host_listings_count: The number of listings for a particular host.\n",
              "16                                                                                                                                                                                                                                                                                                                        availability_365: The number of days for which a particular host is available in a year."
            ]
          },
          "execution_count": 3,
          "metadata": {},
          "output_type": "execute_result"
        }
      ],
      "source": [
        "# loading glossary\n",
        "glossary = pd.read_csv('Glossary - Sheet1 (1).csv', header = None)\n",
        "glossary"
      ]
    },
    {
      "cell_type": "code",
      "execution_count": null,
      "metadata": {
        "id": "xwI6XbOtBiUO"
      },
      "outputs": [],
      "source": [
        "# dropping the 'name' variable\n",
        "df.drop(columns = ['name'], inplace = True)"
      ]
    },
    {
      "cell_type": "code",
      "execution_count": null,
      "metadata": {
        "id": "6YLlPK34BiUS",
        "outputId": "9258e1ff-6231-4983-f11a-d1ac10e289b8"
      },
      "outputs": [
        {
          "data": {
            "text/plain": [
              "(19362, 15)"
            ]
          },
          "execution_count": 5,
          "metadata": {},
          "output_type": "execute_result"
        }
      ],
      "source": [
        "# checking dataset shape\n",
        "df.shape"
      ]
    },
    {
      "cell_type": "code",
      "execution_count": null,
      "metadata": {
        "id": "wSszt42KBiUX",
        "outputId": "5f5f4fe0-370b-40d5-c7ec-c3e50470187c"
      },
      "outputs": [
        {
          "data": {
            "text/plain": [
              "id                                  int64\n",
              "host_id                             int64\n",
              "host_name                          object\n",
              "neighbourhood_group               float64\n",
              "neighbourhood                      object\n",
              "latitude                          float64\n",
              "longitude                         float64\n",
              "room_type                          object\n",
              "price                               int64\n",
              "minimum_nights                      int64\n",
              "number_of_reviews                   int64\n",
              "last_review                        object\n",
              "reviews_per_month                 float64\n",
              "calculated_host_listings_count      int64\n",
              "availability_365                    int64\n",
              "dtype: object"
            ]
          },
          "execution_count": 6,
          "metadata": {},
          "output_type": "execute_result"
        }
      ],
      "source": [
        "# checking data types\n",
        "df.dtypes"
      ]
    },
    {
      "cell_type": "code",
      "execution_count": null,
      "metadata": {
        "id": "zmH7F51yBiUa"
      },
      "outputs": [],
      "source": [
        ""
      ]
    },
    {
      "cell_type": "code",
      "execution_count": null,
      "metadata": {
        "id": "sE9Pjh1gBiUd",
        "outputId": "205b076b-2c91-4a28-9a60-067f0ef61ce1"
      },
      "outputs": [
        {
          "data": {
            "text/plain": [
              "(19362, 15)"
            ]
          },
          "execution_count": 7,
          "metadata": {},
          "output_type": "execute_result"
        }
      ],
      "source": [
        "# dropping duplicates, if any\n",
        "df.drop_duplicates(inplace = True)\n",
        "df.shape"
      ]
    },
    {
      "cell_type": "code",
      "execution_count": null,
      "metadata": {
        "id": "TSntRcwDBiUg",
        "outputId": "c903af61-f9b8-4cef-f612-56188ceed38e"
      },
      "outputs": [
        {
          "data": {
            "text/plain": [
              "id                                    0\n",
              "host_id                               0\n",
              "host_name                             4\n",
              "neighbourhood_group               19362\n",
              "neighbourhood                         0\n",
              "latitude                              0\n",
              "longitude                             0\n",
              "room_type                             0\n",
              "price                                 0\n",
              "minimum_nights                        0\n",
              "number_of_reviews                     0\n",
              "last_review                        2284\n",
              "reviews_per_month                  2284\n",
              "calculated_host_listings_count        0\n",
              "availability_365                      0\n",
              "dtype: int64"
            ]
          },
          "execution_count": 8,
          "metadata": {},
          "output_type": "execute_result"
        }
      ],
      "source": [
        "# checking for missing data\n",
        "df.isna().sum()"
      ]
    },
    {
      "cell_type": "code",
      "execution_count": null,
      "metadata": {
        "id": "7-sCZwtIBiUj",
        "outputId": "32631794-5d27-487d-b1d1-3a6e52ec94e0"
      },
      "outputs": [
        {
          "data": {
            "text/plain": [
              "id                                0\n",
              "host_id                           0\n",
              "host_name                         0\n",
              "neighbourhood                     0\n",
              "latitude                          0\n",
              "longitude                         0\n",
              "room_type                         0\n",
              "price                             0\n",
              "minimum_nights                    0\n",
              "number_of_reviews                 0\n",
              "last_review                       0\n",
              "reviews_per_month                 0\n",
              "calculated_host_listings_count    0\n",
              "availability_365                  0\n",
              "dtype: int64"
            ]
          },
          "execution_count": 9,
          "metadata": {},
          "output_type": "execute_result"
        }
      ],
      "source": [
        "# dropping the 'neighbourhood_group' variable, and the records with missing values for 'last_review'\n",
        "# and 'reviews_per_month'\n",
        "df.drop(columns = ['neighbourhood_group'], inplace = True)\n",
        "df.dropna(inplace = True)\n",
        "\n",
        "# confirming we have no null values\n",
        "df.isnull().sum()"
      ]
    },
    {
      "cell_type": "code",
      "execution_count": null,
      "metadata": {
        "id": "w0ZinlPpBiUo",
        "outputId": "75078f42-7d5a-44e0-877c-cf7a1f801b2d"
      },
      "outputs": [
        {
          "data": {
            "text/plain": [
              "(17075, 14)"
            ]
          },
          "execution_count": 10,
          "metadata": {},
          "output_type": "execute_result"
        }
      ],
      "source": [
        "df.shape"
      ]
    },
    {
      "cell_type": "code",
      "execution_count": null,
      "metadata": {
        "id": "Biqt5CGbBiUs",
        "outputId": "2aee2b34-6edc-4062-8be3-cf1ec6bff69b"
      },
      "outputs": [
        {
          "name": "stdout",
          "output_type": "stream",
          "text": [
            "Variable: id\n",
            "Number of unique variables: 17075\n",
            "[    2818    20168    25428 ... 42947577 43031829 43076538]\n",
            "\n",
            "Variable: host_id\n",
            "Number of unique variables: 15182\n",
            "[     3159     59484     56142 ... 341432744 148433830 342882021]\n",
            "\n",
            "Variable: host_name\n",
            "Number of unique variables: 5382\n",
            "['Daniel' 'Alexander' 'Joan' ... 'The Niu Fender' 'Marcela' 'Addie']\n",
            "\n",
            "Variable: neighbourhood\n",
            "Number of unique variables: 22\n",
            "['Oostelijk Havengebied - Indische Buurt' 'Centrum-Oost' 'Centrum-West'\n",
            " 'Zuid' 'De Pijp - Rivierenbuurt' 'De Baarsjes - Oud-West' 'Bos en Lommer'\n",
            " 'Westerpark' 'Oud-Oost' 'Noord-West' 'Slotervaart' 'Oud-Noord'\n",
            " 'Geuzenveld - Slotermeer' 'Watergraafsmeer' 'IJburg - Zeeburgereiland'\n",
            " 'Noord-Oost' 'Gaasperdam - Driemond' 'Buitenveldert - Zuidas'\n",
            " 'Bijlmer-Oost' 'De Aker - Nieuw Sloten' 'Osdorp' 'Bijlmer-Centrum']\n",
            "\n",
            "Variable: latitude\n",
            "Number of unique variables: 5720\n",
            "[52.36575 52.36509 52.37297 ... 52.40828 52.40598 52.38885]\n",
            "\n",
            "Variable: longitude\n",
            "Number of unique variables: 9193\n",
            "[4.94142 4.89354 4.88339 ... 4.88152 4.88034 4.81311]\n",
            "\n",
            "Variable: room_type\n",
            "Number of unique variables: 4\n",
            "['Private room' 'Entire home/apt' 'Hotel room' 'Shared room']\n",
            "\n",
            "Variable: price\n",
            "Number of unique variables: 422\n",
            "[  59  100  125  155   75   55  219  180  159  210  150  270  220  250\n",
            "  120  135  115   80   87   86  222   60  149  109  189  450  108   53\n",
            "  175  105   70  145   95  249   45   98   40   89   99  259  193   52\n",
            "   90   74  165  140   79  230   50  160  129  284  114  265  130  119\n",
            "  385  168 8000   88   85  200  169  650 9000   30  126  550  275  464\n",
            "  111  199  107  226  295   72   96  395  245  299  300  188  280  440\n",
            "  185   65  110  350  400  117   78  700  290  139  415 1750  179  525\n",
            "  195  206   97  144  170  360  118  225   83  232   69  235  213  325\n",
            "  147  190  214  240  121  156  260  319  228  425  399  124  349  239\n",
            "  800  133   47   77  345  229  255   76   66   94  172  376  495  500\n",
            "  439  850  320   93   92  183   58  122  263  154  297  153   71  600\n",
            "   64  123   73  142  138   91   51  317  128  335  248  101  279  103\n",
            "  158  330   84   82  285  291  215  132  176  289   62  131  112  246\n",
            "  127  274  148  498  177  204  466   43   48   57  695  386  266  375\n",
            "   56   68  136  227  405  321  187   49  104  209  146  224  102  344\n",
            "   46  559   63  595  164  795  323  251  218  288   81  197   42  333\n",
            "  174  137  379 1000   35  254  427  383  196   12  329  865  141  389\n",
            "   67  925  725  273  178  198   61   39  167  143 4500  182  475  310\n",
            "  420  151  499  184 1119  186   37   20  233  208  106   41  152  370\n",
            "  116  157  113  134  256  581  173 1150  340  269  445  236    6  211\n",
            "  161   54  231  162   27   28  449  470  898  238  307  460  380  221\n",
            "  205  171  555   38  203   33  480  268  247  201  328  332  410  433\n",
            "  252   32   19  580  298  490  999  217  315   44  575  281  166  234\n",
            "  396  390  163  377  599  308  935   26  277   36  244 1200 1390  604\n",
            "  690  305  194  276  545  359  900  446  207  243   23  615  314   24\n",
            "  267  181  896   29  457  258  680  485    0  447  434   34  429  699\n",
            "  540  223  306  352  590   25   31  424  262  542  403  338  216  750\n",
            "  212  459  520  282 1025  397  237  810  353 1230 3000 2000  242  313\n",
            " 5040  264  339  618  585  438 1285  312  579  401  341  348  799  337\n",
            "  202  840  303  494   17  448  560  563  324  570    5  818  745  368\n",
            "   10  620]\n",
            "\n",
            "Variable: minimum_nights\n",
            "Number of unique variables: 60\n",
            "[   3    1   14    2    4    5    7   21   30   10    6   20  180    8\n",
            "   60   28   13  500   16   15    9  150   31   89   18   59   25   12\n",
            "  999   24   38  186  120   23   40   11   41  222  100   50  240   95\n",
            "   19   90  200   37   17   70   22   99   29   27   45  300 1001   52\n",
            "   48  365 1000   35]\n",
            "\n",
            "Variable: number_of_reviews\n",
            "Number of unique variables: 422\n",
            "[278 340   5 217 332 479  32  89 471 850   3 208 367 103  17 108 298 102\n",
            " 355 309 323 179  31  58 158  95  30  27  16 659 579 154 106  62  97 252\n",
            " 324  64 218 843 131 510 157  94  44 178 196   2  37 386 545 151  29  28\n",
            "  86   4  21  55  41 256  22  48 139 101  15 362 185  10 586  42  40  24\n",
            "  19 166 128 343 160  11 410  81  49  83   7   8 119 216   6  43  35  20\n",
            " 109  50   1 275 465 234 317 209  25  14  87 162  34  75  80 100  12  38\n",
            " 514 288 384  79  99  52 198  67 118 130 111 574  53 186  23  78  65 123\n",
            "  33  91   9 397 237  77  76  60  46 193 150 432  54  45  96  39 127  93\n",
            "  59  13 202  72  57 112  18 369  26 439 170  66 337 210 259 284 606 363\n",
            " 195  71 372  36  47 141 107 645 551 411 299 418 120 699  85 147 183 221\n",
            " 351  69 149  68 238 114 161 104  63 246 391 188 409  73 756 121 174 311\n",
            "  82 668 230 300  74 661  70 326 134 233  92  51 459 327 501 412  56 279\n",
            " 129 408 349 165 254 468 137 226 553  98 285 192 455 325 373 105 289 173\n",
            " 263 390 485 235 148 307 624 315  61 171 124 219 122 175  88 508 314 268\n",
            " 243  90 212 404 156 273 375 133 377 182 283 413 125 265 304 191 760 354\n",
            " 229 257 401 331 306 427 334 431 502 492 143 458 236 126 258 142 282 435\n",
            " 496 153 558 190 261 159 253 447 280 291 274 267 215 255 444 242  84 152\n",
            " 199 145 303 388 286 266 379 110 321 135 197 371 463 434 344 187 271 264\n",
            " 430 596 155 450 169 251 213 617 222 475 172 387 207 296 356 297 457 313\n",
            " 117 115 357 320 168 338 184 358 249 262 272 206 214 163 113 302 225 138\n",
            " 247 422 488 244 568 417 312 381 310 241 224 223 336 290 116 329 164 322\n",
            " 406 269 277 180 522 292 204 348 146 245 250 534 211 276 437 328 382 176\n",
            " 248 177 424 359 232 347 144 231 194 200 181 295 201 239 346 140 330 167\n",
            " 136 240 319 227 132 189 203 589]\n",
            "\n",
            "Variable: last_review\n",
            "Number of unique variables: 1590\n",
            "['2020-02-14' '2020-04-09' '2020-02-09' ... '2020-04-03' '2020-04-18'\n",
            " '2020-04-17']\n",
            "\n",
            "Variable: reviews_per_month\n",
            "Number of unique variables: 703\n",
            "[2.060e+00 2.760e+00 1.800e-01 2.150e+00 2.820e+00 4.330e+00 3.000e-01\n",
            " 7.800e-01 4.020e+00 1.004e+01 3.000e-02 2.000e+00 3.180e+00 9.500e-01\n",
            " 2.300e-01 1.190e+00 2.630e+00 8.900e-01 3.100e+00 2.810e+00 2.990e+00\n",
            " 1.600e+00 2.700e-01 5.000e-02 5.100e-01 1.380e+00 8.400e-01 1.140e+00\n",
            " 1.270e+00 2.500e-01 2.000e-01 5.950e+00 5.190e+00 1.410e+00 2.130e+00\n",
            " 5.600e-01 1.160e+00 2.320e+00 3.000e+00 1.970e+00 7.830e+00 6.840e+00\n",
            " 1.430e+00 8.800e-01 4.100e-01 1.830e+00 2.000e-02 3.500e-01 8.000e-02\n",
            " 3.940e+00 5.090e+00 2.800e-01 9.600e-01 8.000e-01 2.200e-01 6.200e-01\n",
            " 6.000e-01 2.460e+00 2.100e-01 9.700e-01 1.550e+00 4.500e-01 1.310e+00\n",
            " 2.600e-01 1.500e-01 3.430e+00 1.770e+00 1.100e-01 5.600e+00 3.900e-01\n",
            " 4.000e-01 3.800e-01 2.400e-01 1.610e+00 1.240e+00 9.000e-01 1.600e-01\n",
            " 3.350e+00 3.700e-01 4.070e+00 1.350e+00 5.800e-01 8.500e-01 1.220e+00\n",
            " 2.250e+00 4.300e-01 3.600e-01 1.000e+00 4.000e-02 1.120e+00 5.000e-01\n",
            " 1.000e-01 2.750e+00 4.830e+00 3.190e+00 2.070e+00 8.300e-01 1.400e-01\n",
            " 9.100e-01 8.700e-01 7.000e-02 1.660e+00 1.050e+00 4.600e-01 3.200e-01\n",
            " 8.200e-01 4.900e-01 1.200e-01 3.080e+00 3.300e-01 5.210e+00 3.400e-01\n",
            " 2.940e+00 3.960e+00 4.400e-01 1.100e+00 8.100e-01 1.020e+00 5.900e-01\n",
            " 2.030e+00 1.900e-01 6.800e-01 1.450e+00 5.900e+00 5.400e-01 6.700e-01\n",
            " 1.700e-01 6.100e-01 4.110e+00 7.900e-01 6.300e-01 4.800e-01 2.050e+00\n",
            " 1.650e+00 5.640e+00 5.700e-01 4.700e-01 1.010e+00 1.300e-01 6.600e-01\n",
            " 1.390e+00 9.800e-01 1.260e+00 9.000e-02 4.690e+00 7.700e-01 2.370e+00\n",
            " 1.180e+00 7.400e-01 1.820e+00 3.920e+00 4.790e+00 2.900e-01 2.690e+00\n",
            " 4.200e-01 5.300e-01 7.100e-01 4.640e+00 2.380e+00 2.800e+00 3.100e-01\n",
            " 3.260e+00 6.480e+00 3.900e+00 2.110e+00 7.600e-01 3.970e+00 1.520e+00\n",
            " 1.000e-02 2.400e+00 1.170e+00 6.980e+00 6.000e+00 6.900e-01 6.000e-02\n",
            " 3.240e+00 4.560e+00 1.320e+00 7.600e+00 6.500e-01 1.850e+00 9.300e-01\n",
            " 3.590e+00 5.200e-01 9.400e-01 2.010e+00 1.200e+00 3.550e+00 3.890e+00\n",
            " 2.040e+00 1.130e+00 1.210e+00 2.720e+00 5.500e-01 2.710e+00 6.060e+00\n",
            " 2.210e+00 4.530e+00 1.780e+00 7.000e-01 8.460e+00 1.360e+00 1.940e+00\n",
            " 3.570e+00 7.420e+00 5.240e+00 3.130e+00 3.380e+00 7.440e+00 3.800e+00\n",
            " 1.590e+00 1.980e+00 2.700e+00 1.080e+00 5.320e+00 3.850e+00 5.710e+00\n",
            " 4.700e+00 6.400e-01 1.930e+00 3.370e+00 4.750e+00 4.080e+00 2.270e+00\n",
            " 4.120e+00 3.480e+00 4.260e+00 1.890e+00 5.440e+00 3.090e+00 6.440e+00\n",
            " 1.150e+00 7.500e-01 7.300e-01 3.400e+00 2.510e+00 1.030e+00 5.380e+00\n",
            " 3.840e+00 3.830e+00 8.600e-01 4.420e+00 6.560e+00 3.170e+00 4.990e+00\n",
            " 7.200e-01 5.770e+00 1.330e+00 2.890e+00 4.360e+00 4.730e+00 1.530e+00\n",
            " 3.780e+00 7.480e+00 3.770e+00 3.820e+00 9.200e-01 1.250e+00 9.900e-01\n",
            " 1.510e+00 2.140e+00 5.610e+00 2.670e+00 1.060e+00 1.500e+00 6.220e+00\n",
            " 2.600e+00 1.630e+00 1.490e+00 5.020e+00 1.480e+00 1.230e+00 2.420e+00\n",
            " 3.450e+00 4.680e+00 1.670e+00 4.720e+00 1.090e+00 3.500e+00 2.490e+00\n",
            " 5.510e+00 1.580e+00 1.760e+00 2.660e+00 3.040e+00 1.560e+00 9.630e+00\n",
            " 4.500e+00 3.070e+00 1.040e+00 1.740e+00 3.610e+00 5.220e+00 4.490e+00\n",
            " 4.150e+00 5.810e+00 1.110e+00 4.350e+00 2.230e+00 5.970e+00 6.500e+00\n",
            " 6.690e+00 1.870e+00 5.980e+00 3.140e+00 4.950e+00 1.420e+00 1.750e+00\n",
            " 1.370e+00 3.640e+00 1.300e+00 4.270e+00 3.760e+00 5.930e+00 5.820e+00\n",
            " 2.080e+00 7.560e+00 2.590e+00 3.600e+00 1.290e+00 2.350e+00 2.500e+00\n",
            " 3.520e+00 3.390e+00 3.910e+00 3.310e+00 3.740e+00 3.670e+00 2.650e+00\n",
            " 2.340e+00 4.480e+00 3.690e+00 5.230e+00 1.280e+00 3.580e+00 6.200e+00\n",
            " 4.410e+00 1.860e+00 3.560e+00 2.180e+00 3.490e+00 2.100e+00 2.090e+00\n",
            " 3.290e+00 4.290e+00 1.720e+00 5.490e+00 4.040e+00 5.370e+00 1.470e+00\n",
            " 3.730e+00 1.640e+00 4.660e+00 1.950e+00 3.220e+00 2.860e+00 3.680e+00\n",
            " 5.360e+00 5.390e+00 4.250e+00 1.440e+00 2.870e+00 4.920e+00 6.730e+00\n",
            " 6.350e+00 5.050e+00 1.960e+00 2.740e+00 2.900e+00 1.070e+00 3.470e+00\n",
            " 6.400e+00 8.900e+00 4.460e+00 6.780e+00 6.160e+00 5.130e+00 3.010e+00\n",
            " 9.320e+00 3.620e+00 7.220e+00 5.880e+00 2.480e+00 3.160e+00 4.590e+00\n",
            " 7.410e+00 2.310e+00 3.870e+00 4.600e+00 7.530e+00 5.100e+00 4.650e+00\n",
            " 4.160e+00 3.720e+00 1.710e+00 5.690e+00 2.280e+00 1.880e+00 1.840e+00\n",
            " 2.620e+00 2.300e+00 1.400e+00 1.570e+00 5.250e+00 5.570e+00 6.300e+00\n",
            " 4.470e+00 2.260e+00 4.240e+00 5.910e+00 2.360e+00 2.830e+00 6.010e+00\n",
            " 4.570e+00 3.420e+00 4.210e+00 2.730e+00 2.680e+00 1.002e+01 5.080e+00\n",
            " 3.410e+00 1.340e+00 4.280e+00 2.580e+00 1.910e+00 1.990e+00 7.210e+00\n",
            " 1.084e+01 4.220e+00 3.710e+00 1.010e+01 7.000e+00 4.880e+00 6.520e+00\n",
            " 5.630e+00 7.350e+00 5.560e+00 6.670e+00 4.190e+00 5.140e+00 3.990e+00\n",
            " 2.410e+00 3.980e+00 6.140e+00 5.200e+00 4.860e+00 2.790e+00 4.140e+00\n",
            " 5.840e+00 7.540e+00 4.970e+00 2.930e+00 3.270e+00 3.440e+00 4.230e+00\n",
            " 9.920e+00 2.950e+00 4.090e+00 4.870e+00 5.400e+00 2.910e+00 6.460e+00\n",
            " 3.050e+00 4.740e+00 5.270e+00 6.070e+00 4.540e+00 1.690e+00 1.920e+00\n",
            " 5.030e+00 3.810e+00 6.210e+00 1.700e+00 3.660e+00 4.370e+00 2.290e+00\n",
            " 4.960e+00 1.031e+01 4.430e+00 1.540e+00 2.220e+00 2.440e+00 1.800e+00\n",
            " 2.980e+00 4.840e+00 5.540e+00 8.710e+00 2.330e+00 7.760e+00 6.470e+00\n",
            " 3.790e+00 9.340e+00 5.000e+00 1.730e+00 2.570e+00 2.240e+00 4.620e+00\n",
            " 5.340e+00 3.280e+00 4.520e+00 4.670e+00 8.830e+00 4.710e+00 2.560e+00\n",
            " 3.880e+00 1.620e+00 3.930e+00 6.900e+00 3.700e+00 3.210e+00 5.870e+00\n",
            " 1.680e+00 2.840e+00 6.250e+00 7.650e+00 4.940e+00 4.780e+00 3.340e+00\n",
            " 3.510e+00 7.590e+00 4.510e+00 2.780e+00 3.200e+00 2.520e+00 3.320e+00\n",
            " 2.450e+00 2.540e+00 6.310e+00 6.370e+00 1.460e+00 4.630e+00 3.530e+00\n",
            " 9.060e+00 4.610e+00 6.790e+00 1.810e+00 2.430e+00 4.310e+00 7.470e+00\n",
            " 5.350e+00 5.260e+00 7.120e+00 2.390e+00 2.470e+00 7.070e+00 2.920e+00\n",
            " 3.250e+00 6.680e+00 6.720e+00 5.800e+00 4.030e+00 3.330e+00 4.450e+00\n",
            " 4.010e+00 2.960e+00 2.190e+00 3.650e+00 6.040e+00 5.150e+00 1.900e+00\n",
            " 3.020e+00 5.700e+00 4.000e+00 2.770e+00 6.270e+00 9.440e+00 5.310e+00\n",
            " 2.020e+00 6.450e+00 5.290e+00 5.730e+00 8.890e+00 6.940e+00 3.950e+00\n",
            " 5.040e+00 3.460e+00 7.100e+00 1.790e+00 2.530e+00 3.230e+00 8.570e+00\n",
            " 4.910e+00 2.200e+00 8.030e+00 4.810e+00 4.800e+00 7.740e+00 5.920e+00\n",
            " 4.580e+00 9.110e+00 3.060e+00 2.550e+00 6.650e+00 5.590e+00 2.640e+00\n",
            " 7.510e+00 4.770e+00 4.760e+00 8.180e+00 4.980e+00 1.078e+01 5.460e+00\n",
            " 3.150e+00 6.710e+00 2.120e+00 3.030e+00 4.060e+00 6.170e+00 5.420e+00\n",
            " 8.110e+00 4.400e+00 6.330e+00 5.500e+00 4.320e+00 6.260e+00 5.010e+00\n",
            " 8.290e+00 8.860e+00 7.580e+00 6.490e+00 5.480e+00 3.540e+00 7.430e+00\n",
            " 4.170e+00 3.110e+00 4.380e+00 6.380e+00 4.180e+00 4.550e+00 5.780e+00\n",
            " 2.610e+00 5.060e+00 5.330e+00 1.129e+01 7.610e+00 3.750e+00 8.590e+00\n",
            " 7.180e+00 6.390e+00 4.890e+00 5.410e+00 5.170e+00 6.320e+00 7.680e+00\n",
            " 7.330e+00 6.830e+00 9.130e+00 8.950e+00 6.960e+00 5.300e+00 6.020e+00\n",
            " 4.390e+00 5.740e+00 4.200e+00 3.120e+00 7.780e+00 4.820e+00 8.070e+00\n",
            " 4.340e+00 9.020e+00 7.190e+00 9.010e+00 8.880e+00 7.030e+00 4.930e+00\n",
            " 5.620e+00 6.050e+00 5.520e+00 2.880e+00 2.170e+00 6.610e+00 7.500e+00\n",
            " 1.438e+01 2.830e+01 5.940e+00 5.790e+00 2.213e+01 1.257e+01 6.510e+00\n",
            " 3.300e+00 6.880e+00 3.360e+00 4.130e+00 7.170e+00 3.630e+00 5.760e+00\n",
            " 4.124e+01 6.230e+00 5.851e+01 4.050e+00 4.100e+00 5.650e+00 6.120e+00\n",
            " 7.300e+00 1.800e+01 4.900e+00 5.120e+00 2.160e+00 7.010e+00 2.850e+00\n",
            " 7.770e+00 3.860e+00 6.890e+00]\n",
            "\n",
            "Variable: calculated_host_listings_count\n",
            "Number of unique variables: 23\n",
            "[ 1  2  3  5  9  8  4 10  6 11  7 38 13 39 21 16 31 19 34 14 17 15 12]\n",
            "\n",
            "Variable: availability_365\n",
            "Number of unique variables: 366\n",
            "[169 106 132 172 210 262 105  16 293   0 324   1 336  75 285  15  58 365\n",
            "  10  27  32 283  76  72  89 181   4 107  81  37  60 219 294 157 274  26\n",
            " 273 350 166 216 267 125  17 114  87 205 339 332  23 245 160 197 207   3\n",
            "   8 182 190  49 323  30  51  38 120 211 256 140 306 188  71 326 356 333\n",
            " 130  65 116 348 331 318 260 354 261 358  34  74 189 229 275  67 133 279\n",
            " 291 320  19 224   2 150  25  83 118 280 127 337  85  20  45  22 286 321\n",
            "  42 178 141 143 108 196 277 200 342  59 180  90 364 334  70  31 158 347\n",
            "  18  12  46 104 281 363  50 282  78 135 327   5 214  63 121 264 111 351\n",
            " 138  55 362 319 290 100 153 352 179 248 345 156 170 222  61 204 164 270\n",
            "  47 304 223   7 191 122 234 278 228  66 353 168  35 250 173 271 314 328\n",
            "  40 344 301 171 134 268 289  28 117 252 221 357 194 213  77 152 230 255\n",
            "  48 202  64 155 235 292 193 359 151  14 263 349   6 232 272 287 177  73\n",
            " 192 238  88 335 355 330 187 119  29  84 220 300  44 109 142 112 212 361\n",
            " 307 215 209  82  97 226 312 102 208 115  11 176  56 124 251  43 317 110\n",
            " 284  36  99  52 159 259 198 343 346 137 162  69 315 241 131 139 288  98\n",
            "  13 225   9 175 186 265  79 206  93 247 113 149  21 231 174 233 218 340\n",
            " 316 322 199 295 123 302 305 325  24 296 148  92 308 183  86  96 201 239\n",
            " 360 240 303 165  62 129 313 101 297 167 185 310 195 257  54  57  80 145\n",
            " 299 144  91 128 146 163  33 242 253  68 341 244 203 147 154 227  94  95\n",
            " 311 309 329  39 246  53  41 126 298 249 236 266 269 103 338 136 237 258\n",
            " 243 276 161 217 254 184]\n",
            "\n"
          ]
        }
      ],
      "source": [
        "# get the unique value of each variable to ensure there are no anomalies\n",
        "cols = df.columns.to_list()\n",
        "\n",
        "for col in cols:\n",
        "    print(\"Variable:\", col)\n",
        "    print(\"Number of unique variables:\", df[col].nunique())\n",
        "    print(df[col].unique())\n",
        "    print()"
      ]
    },
    {
      "cell_type": "code",
      "execution_count": null,
      "metadata": {
        "id": "aNmLiGPFBiUv",
        "outputId": "0af7eeaf-6156-456b-827b-ae6a80830f93"
      },
      "outputs": [
        {
          "data": {
            "image/png": "[encoded data removed]",
            "text/plain": [
              "<Figure size 1080x576 with 1 Axes>"
            ]
          },
          "metadata": {
            "needs_background": "light"
          },
          "output_type": "display_data"
        }
      ],
      "source": [
        "# visualizing the distribution of outliers\n",
        "plt.figure(figsize = (15, 8))\n",
        "df.boxplot()\n",
        "plt.show()"
      ]
    },
    {
      "cell_type": "code",
      "execution_count": null,
      "metadata": {
        "id": "EF2ckNcZBiUx",
        "outputId": "24a0ffe0-77c1-4780-9f6b-b9c0de6cbbc2"
      },
      "outputs": [
        {
          "name": "stdout",
          "output_type": "stream",
          "text": [
            "(8544, 14)\n"
          ]
        },
        {
          "data": {
            "text/html": [
              "<div>\n",
              "<style scoped>\n",
              "    .dataframe tbody tr th:only-of-type {\n",
              "        vertical-align: middle;\n",
              "    }\n",
              "\n",
              "    .dataframe tbody tr th {\n",
              "        vertical-align: top;\n",
              "    }\n",
              "\n",
              "    .dataframe thead th {\n",
              "        text-align: right;\n",
              "    }\n",
              "</style>\n",
              "<table border=\"1\" class=\"dataframe\">\n",
              "  <thead>\n",
              "    <tr style=\"text-align: right;\">\n",
              "      <th></th>\n",
              "      <th>id</th>\n",
              "      <th>host_id</th>\n",
              "      <th>host_name</th>\n",
              "      <th>neighbourhood</th>\n",
              "      <th>latitude</th>\n",
              "      <th>longitude</th>\n",
              "      <th>room_type</th>\n",
              "      <th>price</th>\n",
              "      <th>minimum_nights</th>\n",
              "      <th>number_of_reviews</th>\n",
              "      <th>last_review</th>\n",
              "      <th>reviews_per_month</th>\n",
              "      <th>calculated_host_listings_count</th>\n",
              "      <th>availability_365</th>\n",
              "    </tr>\n",
              "  </thead>\n",
              "  <tbody>\n",
              "    <tr>\n",
              "      <th>18997</th>\n",
              "      <td>42373359</td>\n",
              "      <td>86046776</td>\n",
              "      <td>Suvensca</td>\n",
              "      <td>Bijlmer-Centrum</td>\n",
              "      <td>52.32693</td>\n",
              "      <td>4.94727</td>\n",
              "      <td>Private room</td>\n",
              "      <td>35</td>\n",
              "      <td>5</td>\n",
              "      <td>2</td>\n",
              "      <td>2020-02-23</td>\n",
              "      <td>1.05</td>\n",
              "      <td>1</td>\n",
              "      <td>0</td>\n",
              "    </tr>\n",
              "    <tr>\n",
              "      <th>6762</th>\n",
              "      <td>13647474</td>\n",
              "      <td>11609778</td>\n",
              "      <td>Ellie</td>\n",
              "      <td>Centrum-Oost</td>\n",
              "      <td>52.36054</td>\n",
              "      <td>4.90093</td>\n",
              "      <td>Private room</td>\n",
              "      <td>135</td>\n",
              "      <td>3</td>\n",
              "      <td>154</td>\n",
              "      <td>2020-03-09</td>\n",
              "      <td>3.34</td>\n",
              "      <td>1</td>\n",
              "      <td>74</td>\n",
              "    </tr>\n",
              "    <tr>\n",
              "      <th>8343</th>\n",
              "      <td>16265237</td>\n",
              "      <td>4662724</td>\n",
              "      <td>Philine</td>\n",
              "      <td>De Baarsjes - Oud-West</td>\n",
              "      <td>52.37044</td>\n",
              "      <td>4.86057</td>\n",
              "      <td>Entire home/apt</td>\n",
              "      <td>200</td>\n",
              "      <td>3</td>\n",
              "      <td>4</td>\n",
              "      <td>2017-04-16</td>\n",
              "      <td>0.10</td>\n",
              "      <td>2</td>\n",
              "      <td>0</td>\n",
              "    </tr>\n",
              "  </tbody>\n",
              "</table>\n",
              "</div>"
            ],
            "text/plain": [
              "             id   host_id host_name           neighbourhood  latitude  \\\n",
              "18997  42373359  86046776  Suvensca         Bijlmer-Centrum  52.32693   \n",
              "6762   13647474  11609778     Ellie            Centrum-Oost  52.36054   \n",
              "8343   16265237   4662724   Philine  De Baarsjes - Oud-West  52.37044   \n",
              "\n",
              "       longitude        room_type  price  minimum_nights  number_of_reviews  \\\n",
              "18997    4.94727     Private room     35               5                  2   \n",
              "6762     4.90093     Private room    135               3                154   \n",
              "8343     4.86057  Entire home/apt    200               3                  4   \n",
              "\n",
              "      last_review  reviews_per_month  calculated_host_listings_count  \\\n",
              "18997  2020-02-23               1.05                               1   \n",
              "6762   2020-03-09               3.34                               1   \n",
              "8343   2017-04-16               0.10                               2   \n",
              "\n",
              "       availability_365  \n",
              "18997                 0  \n",
              "6762                 74  \n",
              "8343                  0  "
            ]
          },
          "execution_count": 13,
          "metadata": {},
          "output_type": "execute_result"
        }
      ],
      "source": [
        "# getting the records with outliers\n",
        "q1 = df.quantile(0.25)\n",
        "q3 = df.quantile(0.75)\n",
        "iqr = q3 - q1\n",
        "\n",
        "outliers_df = df[((df < (q1 - 1.5 * iqr)) | (df > (q3 + 1.5 * iqr))).any(axis = 1)]\n",
        "print(outliers_df.shape)\n",
        "outliers_df.sample(3)"
      ]
    },
    {
      "cell_type": "code",
      "execution_count": null,
      "metadata": {
        "id": "rYRRRrLyBiU0",
        "outputId": "d6161e64-e1bc-4031-a174-90808a96d397"
      },
      "outputs": [
        {
          "data": {
            "text/plain": [
              "50.04"
            ]
          },
          "execution_count": 14,
          "metadata": {},
          "output_type": "execute_result"
        }
      ],
      "source": [
        "# calculating percentage of outliers\n",
        "round((outliers_df.shape[0] / df.shape[0]) * 100, 2)"
      ]
    },
    {
      "cell_type": "markdown",
      "metadata": {
        "id": "cFYNsqcNBiU4"
      },
      "source": [
        "It would be tricky to drop the records with outliers since that will reduce our dataset by half so we will leave them there. However, we will drop the host_id variable later on, right before modeling."
      ]
    },
    {
      "cell_type": "markdown",
      "metadata": {
        "id": "UFT-K1wQBiU5"
      },
      "source": [
        "# <font color='#2F4F4F'>3. Data Analysis</font>"
      ]
    },
    {
      "cell_type": "markdown",
      "metadata": {
        "id": "T3ugplNYBiU5"
      },
      "source": [
        "## 3.1 Univariate Analysis "
      ]
    },
    {
      "cell_type": "code",
      "execution_count": null,
      "metadata": {
        "id": "hMJPsYX_BiU6",
        "outputId": "03f86ef5-354f-4f90-b4e5-7ca4c0185b4b"
      },
      "outputs": [
        {
          "data": {
            "image/png": "[encoded data removed]",
            "text/plain": [
              "<Figure size 720x432 with 1 Axes>"
            ]
          },
          "metadata": {
            "needs_background": "light"
          },
          "output_type": "display_data"
        }
      ],
      "source": [
        "# getting the top 10 most common hosts\n",
        "plt.figure(figsize = (10, 6))\n",
        "df.host_name.value_counts()[:10].plot(kind = 'bar', rot = 0)\n",
        "plt.title(\"Top 10 Hosts\")\n",
        "plt.show()"
      ]
    },
    {
      "cell_type": "code",
      "execution_count": null,
      "metadata": {
        "id": "T_NepL5vBiU9",
        "outputId": "01f46c0b-4af4-43dd-f847-ef41d1c32ff6"
      },
      "outputs": [
        {
          "data": {
            "image/png": "[encoded data removed]",
            "text/plain": [
              "<Figure size 720x432 with 1 Axes>"
            ]
          },
          "metadata": {
            "needs_background": "light"
          },
          "output_type": "display_data"
        }
      ],
      "source": [
        "# getting the top 10 most common neighbourhoods\n",
        "plt.figure(figsize = (10, 6))\n",
        "df.neighbourhood.value_counts()[:10].plot(kind = 'bar', rot = 25)\n",
        "plt.xticks(ha = \"right\")\n",
        "plt.title(\"Top 10 Neighbourhoods\")\n",
        "plt.show()"
      ]
    },
    {
      "cell_type": "code",
      "execution_count": null,
      "metadata": {
        "id": "336tKm-eBiVB",
        "outputId": "dffdb6d9-e5cc-4a62-c54a-b46f71c11718"
      },
      "outputs": [
        {
          "data": {
            "text/plain": [
              "Entire home/apt    13308\n",
              "Private room        3497\n",
              "Hotel room           232\n",
              "Shared room           38\n",
              "Name: room_type, dtype: int64"
            ]
          },
          "execution_count": 17,
          "metadata": {},
          "output_type": "execute_result"
        }
      ],
      "source": [
        "df.room_type.value_counts()"
      ]
    },
    {
      "cell_type": "code",
      "execution_count": null,
      "metadata": {
        "id": "KLmzCtedBiVE",
        "outputId": "35ffa1a4-39b5-49a1-8908-b59cb2c9bf7a"
      },
      "outputs": [
        {
          "data": {
            "image/png": "[encoded data removed]",
            "text/plain": [
              "<Figure size 432x432 with 1 Axes>"
            ]
          },
          "metadata": {},
          "output_type": "display_data"
        }
      ],
      "source": [
        "# getting the most common room types\n",
        "plt.figure(figsize = (6, 6))\n",
        "labels = ['Entire home/apt', 'Private room', 'Hotel room', 'Shared room']\n",
        "df.room_type.value_counts().plot(kind = 'pie', autopct = '%0.1f%%', labels = labels)\n",
        "plt.show()"
      ]
    },
    {
      "cell_type": "code",
      "execution_count": null,
      "metadata": {
        "id": "ffYLNxWmBiVI",
        "outputId": "33574aa0-ffeb-428a-8dc0-451ad7292527"
      },
      "outputs": [
        {
          "name": "stderr",
          "output_type": "stream",
          "text": [
            "C:\\Users\\Lenovo\\Anaconda3\\lib\\site-packages\\seaborn\\distributions.py:2551: FutureWarning: `distplot` is a deprecated function and will be removed in a future version. Please adapt your code to use either `displot` (a figure-level function with similar flexibility) or `histplot` (an axes-level function for histograms).\n",
            "  warnings.warn(msg, FutureWarning)\n"
          ]
        },
        {
          "data": {
            "image/png": "[encoded data removed]",
            "text/plain": [
              "<Figure size 720x288 with 1 Axes>"
            ]
          },
          "metadata": {
            "needs_background": "light"
          },
          "output_type": "display_data"
        }
      ],
      "source": [
        "# distribution of price\n",
        "plt.figure(figsize = (10,4))\n",
        "sns.distplot(df['price'])\n",
        "plt.show()"
      ]
    },
    {
      "cell_type": "code",
      "execution_count": null,
      "metadata": {
        "id": "Y_YnBZ0RBiVL",
        "outputId": "40e7d419-1578-43c3-f17c-ad9e3b011b8a"
      },
      "outputs": [
        {
          "data": {
            "image/png": "[encoded data removed]",
            "text/plain": [
              "<Figure size 720x360 with 1 Axes>"
            ]
          },
          "metadata": {
            "needs_background": "light"
          },
          "output_type": "display_data"
        }
      ],
      "source": [
        "# getting the top 10 most common minimum number of nights to spend\n",
        "plt.figure(figsize = (10, 5))\n",
        "df.minimum_nights.value_counts()[:10].plot(kind = 'bar', rot = 0)\n",
        "plt.show()"
      ]
    },
    {
      "cell_type": "markdown",
      "metadata": {
        "id": "OeZUEETkBiVO"
      },
      "source": [
        "## 3.2 Bivariate Analysis"
      ]
    },
    {
      "cell_type": "code",
      "execution_count": null,
      "metadata": {
        "id": "ONWbn9UqBiVP",
        "outputId": "70e19514-c95d-4c7b-9df0-52b265428554"
      },
      "outputs": [
        {
          "name": "stderr",
          "output_type": "stream",
          "text": [
            "C:\\Users\\Lenovo\\Anaconda3\\lib\\site-packages\\pandas\\plotting\\_matplotlib\\tools.py:331: MatplotlibDeprecationWarning: \n",
            "The is_first_col function was deprecated in Matplotlib 3.4 and will be removed two minor releases later. Use ax.get_subplotspec().is_first_col() instead.\n",
            "  if ax.is_first_col():\n"
          ]
        },
        {
          "data": {
            "image/png": "[encoded data removed]",
            "text/plain": [
              "<Figure size 720x432 with 4 Axes>"
            ]
          },
          "metadata": {
            "needs_background": "light"
          },
          "output_type": "display_data"
        }
      ],
      "source": [
        "# price by room type\n",
        "df.hist('price', by = 'room_type', rot = 0, figsize = (10, 6))\n",
        "plt.show()"
      ]
    },
    {
      "cell_type": "code",
      "execution_count": null,
      "metadata": {
        "id": "1_r0mB2YBiVT",
        "outputId": "95dd0e47-1671-4cb8-8f10-ce496ab2c829"
      },
      "outputs": [
        {
          "data": {
            "text/plain": [
              "neighbourhood\n",
              "Centrum-West                              203.653397\n",
              "Centrum-Oost                              190.534247\n",
              "Zuid                                      178.813243\n",
              "Oud-Noord                                 168.763566\n",
              "De Pijp - Rivierenbuurt                   166.601787\n",
              "IJburg - Zeeburgereiland                  157.723077\n",
              "Westerpark                                151.241140\n",
              "De Baarsjes - Oud-West                    149.376228\n",
              "Oud-Oost                                  144.606957\n",
              "Watergraafsmeer                           141.199125\n",
              "Buitenveldert - Zuidas                    137.690355\n",
              "Oostelijk Havengebied - Indische Buurt    135.101163\n",
              "Noord-Oost                                130.495833\n",
              "Noord-West                                126.318885\n",
              "Bos en Lommer                             122.525304\n",
              "De Aker - Nieuw Sloten                    121.268908\n",
              "Slotervaart                               119.791549\n",
              "Geuzenveld - Slotermeer                   113.937143\n",
              "Osdorp                                    103.418182\n",
              "Gaasperdam - Driemond                      96.317757\n",
              "Bijlmer-Centrum                            91.434343\n",
              "Bijlmer-Oost                               89.696629\n",
              "Name: price, dtype: float64"
            ]
          },
          "execution_count": 22,
          "metadata": {},
          "output_type": "execute_result"
        }
      ],
      "source": [
        "# average price by neighbourhood\n",
        "df.groupby('neighbourhood')['price'].mean().sort_values(ascending = False)"
      ]
    },
    {
      "cell_type": "code",
      "execution_count": null,
      "metadata": {
        "id": "icZWqXs3BiVd",
        "outputId": "00ec2b44-e837-4ceb-d3cc-9e52d3e0db77"
      },
      "outputs": [
        {
          "data": {
            "text/plain": [
              "minimum_nights\n",
              "365     3000.000000\n",
              "200      999.000000\n",
              "99       999.000000\n",
              "52       429.000000\n",
              "30       331.551020\n",
              "222      300.000000\n",
              "27       275.000000\n",
              "48       250.000000\n",
              "31       243.750000\n",
              "150      203.000000\n",
              "21       201.761905\n",
              "15       197.888889\n",
              "1000     185.000000\n",
              "240      180.000000\n",
              "28       175.900000\n",
              "7        174.760526\n",
              "300      170.500000\n",
              "180      169.250000\n",
              "3        166.936544\n",
              "14       163.476923\n",
              "38       159.000000\n",
              "4        158.828311\n",
              "45       157.500000\n",
              "5        155.676190\n",
              "1        154.149670\n",
              "60       152.071429\n",
              "2        151.557365\n",
              "24       150.000000\n",
              "22       150.000000\n",
              "6        146.276923\n",
              "59       146.250000\n",
              "40       139.000000\n",
              "9        136.250000\n",
              "41       131.000000\n",
              "20       130.185185\n",
              "1001     130.000000\n",
              "16       129.666667\n",
              "100      127.000000\n",
              "90       126.250000\n",
              "10       125.709677\n",
              "18       125.000000\n",
              "8        120.730769\n",
              "999      120.000000\n",
              "29       120.000000\n",
              "25       118.555556\n",
              "12       118.083333\n",
              "500      110.000000\n",
              "50       110.000000\n",
              "17       109.500000\n",
              "95       105.000000\n",
              "13       104.750000\n",
              "120      104.500000\n",
              "186      100.000000\n",
              "37        95.000000\n",
              "19        93.000000\n",
              "70        90.000000\n",
              "23        89.000000\n",
              "11        83.333333\n",
              "89        77.000000\n",
              "35        45.000000\n",
              "Name: price, dtype: float64"
            ]
          },
          "execution_count": 23,
          "metadata": {},
          "output_type": "execute_result"
        }
      ],
      "source": [
        "# average price by neighbourhood\n",
        "df.groupby('minimum_nights')['price'].mean().sort_values(ascending = False)"
      ]
    },
    {
      "cell_type": "markdown",
      "metadata": {
        "id": "RAMIxPNBBiVh"
      },
      "source": [
        "## 3.3 Feature Engineering"
      ]
    },
    {
      "cell_type": "code",
      "execution_count": null,
      "metadata": {
        "id": "amDK304_BiVi",
        "outputId": "92928e76-6dd7-4bf8-e83f-6e4c140ded75"
      },
      "outputs": [
        {
          "data": {
            "text/html": [
              "<div>\n",
              "<style scoped>\n",
              "    .dataframe tbody tr th:only-of-type {\n",
              "        vertical-align: middle;\n",
              "    }\n",
              "\n",
              "    .dataframe tbody tr th {\n",
              "        vertical-align: top;\n",
              "    }\n",
              "\n",
              "    .dataframe thead th {\n",
              "        text-align: right;\n",
              "    }\n",
              "</style>\n",
              "<table border=\"1\" class=\"dataframe\">\n",
              "  <thead>\n",
              "    <tr style=\"text-align: right;\">\n",
              "      <th></th>\n",
              "      <th>id</th>\n",
              "      <th>host_id</th>\n",
              "      <th>host_name</th>\n",
              "      <th>neighbourhood</th>\n",
              "      <th>latitude</th>\n",
              "      <th>longitude</th>\n",
              "      <th>room_type</th>\n",
              "      <th>price</th>\n",
              "      <th>minimum_nights</th>\n",
              "      <th>number_of_reviews</th>\n",
              "      <th>last_review</th>\n",
              "      <th>reviews_per_month</th>\n",
              "      <th>calculated_host_listings_count</th>\n",
              "      <th>availability_365</th>\n",
              "      <th>AVG_Price</th>\n",
              "    </tr>\n",
              "  </thead>\n",
              "  <tbody>\n",
              "    <tr>\n",
              "      <th>0</th>\n",
              "      <td>2818</td>\n",
              "      <td>3159</td>\n",
              "      <td>Daniel</td>\n",
              "      <td>Oostelijk Havengebied - Indische Buurt</td>\n",
              "      <td>52.36575</td>\n",
              "      <td>4.94142</td>\n",
              "      <td>Private room</td>\n",
              "      <td>59</td>\n",
              "      <td>3</td>\n",
              "      <td>278</td>\n",
              "      <td>2020-02-14</td>\n",
              "      <td>2.06</td>\n",
              "      <td>1</td>\n",
              "      <td>169</td>\n",
              "      <td>109.421504</td>\n",
              "    </tr>\n",
              "    <tr>\n",
              "      <th>1</th>\n",
              "      <td>20168</td>\n",
              "      <td>59484</td>\n",
              "      <td>Alexander</td>\n",
              "      <td>Centrum-Oost</td>\n",
              "      <td>52.36509</td>\n",
              "      <td>4.89354</td>\n",
              "      <td>Private room</td>\n",
              "      <td>100</td>\n",
              "      <td>1</td>\n",
              "      <td>340</td>\n",
              "      <td>2020-04-09</td>\n",
              "      <td>2.76</td>\n",
              "      <td>2</td>\n",
              "      <td>106</td>\n",
              "      <td>109.421504</td>\n",
              "    </tr>\n",
              "    <tr>\n",
              "      <th>2</th>\n",
              "      <td>25428</td>\n",
              "      <td>56142</td>\n",
              "      <td>Joan</td>\n",
              "      <td>Centrum-West</td>\n",
              "      <td>52.37297</td>\n",
              "      <td>4.88339</td>\n",
              "      <td>Entire home/apt</td>\n",
              "      <td>125</td>\n",
              "      <td>14</td>\n",
              "      <td>5</td>\n",
              "      <td>2020-02-09</td>\n",
              "      <td>0.18</td>\n",
              "      <td>1</td>\n",
              "      <td>132</td>\n",
              "      <td>169.179967</td>\n",
              "    </tr>\n",
              "    <tr>\n",
              "      <th>3</th>\n",
              "      <td>27886</td>\n",
              "      <td>97647</td>\n",
              "      <td>Flip</td>\n",
              "      <td>Centrum-West</td>\n",
              "      <td>52.38761</td>\n",
              "      <td>4.89188</td>\n",
              "      <td>Private room</td>\n",
              "      <td>155</td>\n",
              "      <td>2</td>\n",
              "      <td>217</td>\n",
              "      <td>2020-03-02</td>\n",
              "      <td>2.15</td>\n",
              "      <td>1</td>\n",
              "      <td>172</td>\n",
              "      <td>109.421504</td>\n",
              "    </tr>\n",
              "    <tr>\n",
              "      <th>4</th>\n",
              "      <td>28871</td>\n",
              "      <td>124245</td>\n",
              "      <td>Edwin</td>\n",
              "      <td>Centrum-West</td>\n",
              "      <td>52.36719</td>\n",
              "      <td>4.89092</td>\n",
              "      <td>Private room</td>\n",
              "      <td>75</td>\n",
              "      <td>2</td>\n",
              "      <td>332</td>\n",
              "      <td>2020-03-16</td>\n",
              "      <td>2.82</td>\n",
              "      <td>3</td>\n",
              "      <td>210</td>\n",
              "      <td>109.421504</td>\n",
              "    </tr>\n",
              "  </tbody>\n",
              "</table>\n",
              "</div>"
            ],
            "text/plain": [
              "      id  host_id  host_name                           neighbourhood  \\\n",
              "0   2818     3159     Daniel  Oostelijk Havengebied - Indische Buurt   \n",
              "1  20168    59484  Alexander                            Centrum-Oost   \n",
              "2  25428    56142       Joan                            Centrum-West   \n",
              "3  27886    97647       Flip                            Centrum-West   \n",
              "4  28871   124245      Edwin                            Centrum-West   \n",
              "\n",
              "   latitude  longitude        room_type  price  minimum_nights  \\\n",
              "0  52.36575    4.94142     Private room     59               3   \n",
              "1  52.36509    4.89354     Private room    100               1   \n",
              "2  52.37297    4.88339  Entire home/apt    125              14   \n",
              "3  52.38761    4.89188     Private room    155               2   \n",
              "4  52.36719    4.89092     Private room     75               2   \n",
              "\n",
              "   number_of_reviews last_review  reviews_per_month  \\\n",
              "0                278  2020-02-14               2.06   \n",
              "1                340  2020-04-09               2.76   \n",
              "2                  5  2020-02-09               0.18   \n",
              "3                217  2020-03-02               2.15   \n",
              "4                332  2020-03-16               2.82   \n",
              "\n",
              "   calculated_host_listings_count  availability_365   AVG_Price  \n",
              "0                               1               169  109.421504  \n",
              "1                               2               106  109.421504  \n",
              "2                               1               132  169.179967  \n",
              "3                               1               172  109.421504  \n",
              "4                               3               210  109.421504  "
            ]
          },
          "execution_count": 24,
          "metadata": {},
          "output_type": "execute_result"
        }
      ],
      "source": [
        "# getting the average price per room type\n",
        "avg_price = df.groupby('room_type')['price'].mean()\n",
        "\n",
        "# adding to our dataset\n",
        "df[\"AVG_Price\"] = df.room_type.map(avg_price)\n",
        "\n",
        "# previewing our modified dataset\n",
        "df.head()"
      ]
    },
    {
      "cell_type": "code",
      "execution_count": null,
      "metadata": {
        "id": "6DxMshHtBiVm",
        "outputId": "a199afd4-8fc4-42a8-bfdb-625f043daa68"
      },
      "outputs": [
        {
          "data": {
            "text/html": [
              "<div>\n",
              "<style scoped>\n",
              "    .dataframe tbody tr th:only-of-type {\n",
              "        vertical-align: middle;\n",
              "    }\n",
              "\n",
              "    .dataframe tbody tr th {\n",
              "        vertical-align: top;\n",
              "    }\n",
              "\n",
              "    .dataframe thead th {\n",
              "        text-align: right;\n",
              "    }\n",
              "</style>\n",
              "<table border=\"1\" class=\"dataframe\">\n",
              "  <thead>\n",
              "    <tr style=\"text-align: right;\">\n",
              "      <th></th>\n",
              "      <th>id</th>\n",
              "      <th>host_id</th>\n",
              "      <th>host_name</th>\n",
              "      <th>neighbourhood</th>\n",
              "      <th>latitude</th>\n",
              "      <th>longitude</th>\n",
              "      <th>room_type</th>\n",
              "      <th>price</th>\n",
              "      <th>minimum_nights</th>\n",
              "      <th>number_of_reviews</th>\n",
              "      <th>last_review</th>\n",
              "      <th>reviews_per_month</th>\n",
              "      <th>calculated_host_listings_count</th>\n",
              "      <th>availability_365</th>\n",
              "      <th>AVG_Price</th>\n",
              "      <th>AVG_Price_neigh</th>\n",
              "    </tr>\n",
              "  </thead>\n",
              "  <tbody>\n",
              "    <tr>\n",
              "      <th>0</th>\n",
              "      <td>2818</td>\n",
              "      <td>3159</td>\n",
              "      <td>Daniel</td>\n",
              "      <td>Oostelijk Havengebied - Indische Buurt</td>\n",
              "      <td>52.36575</td>\n",
              "      <td>4.94142</td>\n",
              "      <td>Private room</td>\n",
              "      <td>59</td>\n",
              "      <td>3</td>\n",
              "      <td>278</td>\n",
              "      <td>2020-02-14</td>\n",
              "      <td>2.06</td>\n",
              "      <td>1</td>\n",
              "      <td>169</td>\n",
              "      <td>109.421504</td>\n",
              "      <td>135.101163</td>\n",
              "    </tr>\n",
              "    <tr>\n",
              "      <th>1</th>\n",
              "      <td>20168</td>\n",
              "      <td>59484</td>\n",
              "      <td>Alexander</td>\n",
              "      <td>Centrum-Oost</td>\n",
              "      <td>52.36509</td>\n",
              "      <td>4.89354</td>\n",
              "      <td>Private room</td>\n",
              "      <td>100</td>\n",
              "      <td>1</td>\n",
              "      <td>340</td>\n",
              "      <td>2020-04-09</td>\n",
              "      <td>2.76</td>\n",
              "      <td>2</td>\n",
              "      <td>106</td>\n",
              "      <td>109.421504</td>\n",
              "      <td>190.534247</td>\n",
              "    </tr>\n",
              "    <tr>\n",
              "      <th>2</th>\n",
              "      <td>25428</td>\n",
              "      <td>56142</td>\n",
              "      <td>Joan</td>\n",
              "      <td>Centrum-West</td>\n",
              "      <td>52.37297</td>\n",
              "      <td>4.88339</td>\n",
              "      <td>Entire home/apt</td>\n",
              "      <td>125</td>\n",
              "      <td>14</td>\n",
              "      <td>5</td>\n",
              "      <td>2020-02-09</td>\n",
              "      <td>0.18</td>\n",
              "      <td>1</td>\n",
              "      <td>132</td>\n",
              "      <td>169.179967</td>\n",
              "      <td>203.653397</td>\n",
              "    </tr>\n",
              "    <tr>\n",
              "      <th>3</th>\n",
              "      <td>27886</td>\n",
              "      <td>97647</td>\n",
              "      <td>Flip</td>\n",
              "      <td>Centrum-West</td>\n",
              "      <td>52.38761</td>\n",
              "      <td>4.89188</td>\n",
              "      <td>Private room</td>\n",
              "      <td>155</td>\n",
              "      <td>2</td>\n",
              "      <td>217</td>\n",
              "      <td>2020-03-02</td>\n",
              "      <td>2.15</td>\n",
              "      <td>1</td>\n",
              "      <td>172</td>\n",
              "      <td>109.421504</td>\n",
              "      <td>203.653397</td>\n",
              "    </tr>\n",
              "    <tr>\n",
              "      <th>4</th>\n",
              "      <td>28871</td>\n",
              "      <td>124245</td>\n",
              "      <td>Edwin</td>\n",
              "      <td>Centrum-West</td>\n",
              "      <td>52.36719</td>\n",
              "      <td>4.89092</td>\n",
              "      <td>Private room</td>\n",
              "      <td>75</td>\n",
              "      <td>2</td>\n",
              "      <td>332</td>\n",
              "      <td>2020-03-16</td>\n",
              "      <td>2.82</td>\n",
              "      <td>3</td>\n",
              "      <td>210</td>\n",
              "      <td>109.421504</td>\n",
              "      <td>203.653397</td>\n",
              "    </tr>\n",
              "  </tbody>\n",
              "</table>\n",
              "</div>"
            ],
            "text/plain": [
              "      id  host_id  host_name                           neighbourhood  \\\n",
              "0   2818     3159     Daniel  Oostelijk Havengebied - Indische Buurt   \n",
              "1  20168    59484  Alexander                            Centrum-Oost   \n",
              "2  25428    56142       Joan                            Centrum-West   \n",
              "3  27886    97647       Flip                            Centrum-West   \n",
              "4  28871   124245      Edwin                            Centrum-West   \n",
              "\n",
              "   latitude  longitude        room_type  price  minimum_nights  \\\n",
              "0  52.36575    4.94142     Private room     59               3   \n",
              "1  52.36509    4.89354     Private room    100               1   \n",
              "2  52.37297    4.88339  Entire home/apt    125              14   \n",
              "3  52.38761    4.89188     Private room    155               2   \n",
              "4  52.36719    4.89092     Private room     75               2   \n",
              "\n",
              "   number_of_reviews last_review  reviews_per_month  \\\n",
              "0                278  2020-02-14               2.06   \n",
              "1                340  2020-04-09               2.76   \n",
              "2                  5  2020-02-09               0.18   \n",
              "3                217  2020-03-02               2.15   \n",
              "4                332  2020-03-16               2.82   \n",
              "\n",
              "   calculated_host_listings_count  availability_365   AVG_Price  \\\n",
              "0                               1               169  109.421504   \n",
              "1                               2               106  109.421504   \n",
              "2                               1               132  169.179967   \n",
              "3                               1               172  109.421504   \n",
              "4                               3               210  109.421504   \n",
              "\n",
              "   AVG_Price_neigh  \n",
              "0       135.101163  \n",
              "1       190.534247  \n",
              "2       203.653397  \n",
              "3       203.653397  \n",
              "4       203.653397  "
            ]
          },
          "execution_count": 25,
          "metadata": {},
          "output_type": "execute_result"
        }
      ],
      "source": [
        "# getting the average price per neighbour\n",
        "avg_price = df.groupby('neighbourhood')['price'].mean()\n",
        "\n",
        "# adding to our dataset\n",
        "df[\"AVG_Price_neigh\"] = df.neighbourhood.map(avg_price)\n",
        "\n",
        "# previewing our modified dataset\n",
        "df.head()"
      ]
    },
    {
      "cell_type": "code",
      "execution_count": null,
      "metadata": {
        "id": "5cE9g8rHBiVp"
      },
      "outputs": [],
      "source": [
        "# encoding 'room_type'\n",
        "from sklearn.preprocessing import LabelEncoder\n",
        "encoder = LabelEncoder()\n",
        "\n",
        "df.room_type = encoder.fit_transform(df.room_type)"
      ]
    },
    {
      "cell_type": "code",
      "execution_count": null,
      "metadata": {
        "id": "ZQkBcgN9BiVr"
      },
      "outputs": [],
      "source": [
        "# dropping unneeded columns in preparation for modeling\n",
        "cols = [\"id\", \"host_id\", \"host_name\", \"neighbourhood\", \"last_review\"]\n",
        "df.drop(cols, axis=1, inplace=True)"
      ]
    },
    {
      "cell_type": "markdown",
      "metadata": {
        "id": "l1ciT2WtBiVv"
      },
      "source": [
        "# <font color='#2F4F4F'>4. Data Modeling</font>"
      ]
    },
    {
      "cell_type": "code",
      "execution_count": null,
      "metadata": {
        "id": "p5etKU12BiVv"
      },
      "outputs": [],
      "source": [
        "# split into features (X) and label (Y)\n",
        "X = df.drop(\"price\", axis=1)\n",
        "y = df.price"
      ]
    },
    {
      "cell_type": "code",
      "execution_count": null,
      "metadata": {
        "id": "6HBMvY_IBiVy"
      },
      "outputs": [],
      "source": [
        "# split into 70-30 train and test sets\n",
        "from sklearn.model_selection import train_test_split\n",
        "X_train, X_test, y_train, y_test = train_test_split(X, y, test_size=30)"
      ]
    },
    {
      "cell_type": "code",
      "execution_count": null,
      "metadata": {
        "id": "FYjh75alBiV0"
      },
      "outputs": [],
      "source": [
        "# scaling our features\n",
        "from sklearn.preprocessing import StandardScaler\n",
        "scaler = StandardScaler()\n",
        "\n",
        "# fitting and transforming X_train while transforming X_test\n",
        "X_train = scaler.fit_transform(X_train)\n",
        "X_test = scaler.fit_transform(X_test)"
      ]
    },
    {
      "cell_type": "markdown",
      "metadata": {
        "id": "hxoyP6JvBiV3"
      },
      "source": [
        "For purposes of simplicity, we will work with the following regressors:\n",
        "* Decision Tree Regressor\n",
        "* Random Forest Regressor"
      ]
    },
    {
      "cell_type": "markdown",
      "metadata": {
        "id": "es4RooNMBiV4"
      },
      "source": [
        "## 4.1 Normal Modeling"
      ]
    },
    {
      "cell_type": "code",
      "execution_count": null,
      "metadata": {
        "id": "9oqDHFgQBiV4",
        "outputId": "78768d6e-75de-4c25-f609-78bf59a63bf8"
      },
      "outputs": [
        {
          "name": "stdout",
          "output_type": "stream",
          "text": [
            "Decision Tree Regressor...\n",
            "RMSE : 141.47944491456465\n",
            "R2 Score : -1.4272447964533113\n",
            "\n",
            "\n",
            "\n",
            "Random Forest Regressor...\n",
            "RMSE : 106.10933408517839\n",
            "R2 Score : -0.3653187747249391\n"
          ]
        }
      ],
      "source": [
        "# loading our regressors\n",
        "from sklearn.tree import DecisionTreeRegressor\n",
        "from sklearn.ensemble import RandomForestRegressor\n",
        "\n",
        "# instantiating our regressors\n",
        "dtr = DecisionTreeRegressor()\n",
        "ens = RandomForestRegressor()\n",
        "\n",
        "# fitting to our training data\n",
        "dtr.fit(X_train, y_train)\n",
        "ens.fit(X_train, y_train)\n",
        "\n",
        "# making predictions\n",
        "pred_dtr = dtr.predict(X_test)\n",
        "pred_ens = ens.predict(X_test)\n",
        "\n",
        "# evaluating the RMSE and R2 scores\n",
        "from sklearn.metrics import mean_squared_error, r2_score\n",
        "print(\"Decision Tree Regressor...\")\n",
        "print(\"RMSE :\", np.sqrt(mean_squared_error(y_test, pred_dtr)))\n",
        "print(\"R2 Score :\", r2_score(y_test, pred_dtr))\n",
        "print(\"\\n\\n\")\n",
        "\n",
        "print(\"Random Forest Regressor...\")\n",
        "print(\"RMSE :\", np.sqrt(mean_squared_error(y_test, pred_ens)))\n",
        "print(\"R2 Score :\", r2_score(y_test, pred_ens))"
      ]
    },
    {
      "cell_type": "code",
      "execution_count": null,
      "metadata": {
        "id": "ePws3a5SBiV8",
        "outputId": "a8ce9cdb-39da-4770-85a8-39b88cd27111"
      },
      "outputs": [
        {
          "data": {
            "text/plain": [
              "157.88029282576866"
            ]
          },
          "execution_count": 32,
          "metadata": {},
          "output_type": "execute_result"
        }
      ],
      "source": [
        "# 10% of target variable's mean\n",
        "np.mean(y)"
      ]
    },
    {
      "cell_type": "markdown",
      "metadata": {
        "id": "dvgQU_reBiV_"
      },
      "source": [
        "Record your observations.\n",
        "\n",
        "Models are not performing well on testing data. First model is still some good but the second random forest is not performing well. It is performing worst."
      ]
    },
    {
      "cell_type": "markdown",
      "metadata": {
        "id": "Vk7x7utuBiV_"
      },
      "source": [
        "## 4.2 Modeling with Grid Search"
      ]
    },
    {
      "cell_type": "code",
      "execution_count": null,
      "metadata": {
        "id": "QPm9K21BBiWA",
        "outputId": "8d500924-303d-4768-cdb4-1423c587fdfc"
      },
      "outputs": [
        {
          "name": "stderr",
          "output_type": "stream",
          "text": [
            "C:\\Users\\Lenovo\\Anaconda3\\lib\\site-packages\\sklearn\\model_selection\\_search.py:922: UserWarning: One or more of the test scores are non-finite: [        nan  0.06168524  0.06168524         nan -0.02140953 -0.02140953\n",
            "         nan -0.01336688 -0.31918255         nan  0.06168524  0.06168524\n",
            "         nan -0.02140953 -0.02140953         nan -0.01336688 -0.01336688\n",
            "         nan  0.0367348   0.0367348          nan  0.05479889  0.05479889\n",
            "         nan  0.0456522   0.0456522 ]\n",
            "  warnings.warn(\n"
          ]
        },
        {
          "name": "stdout",
          "output_type": "stream",
          "text": [
            "{'criterion': 'mse', 'max_depth': 2, 'min_samples_split': 2}\n"
          ]
        }
      ],
      "source": [
        "# setting our grid parameters\n",
        "from sklearn.model_selection import GridSearchCV\n",
        "\n",
        "params = {\n",
        "    \"criterion\": [\"mse\", \"friedman_mse\", \"mae\"],\n",
        "    \"min_samples_split\": [1, 2, 3],\n",
        "    \"max_depth\": [2, 3, 4]\n",
        "}\n",
        "# setting up the Grid Search with our regressors with cv = 5 and n_jobs = -1\n",
        "grid_dtr = GridSearchCV(DecisionTreeRegressor(), params, cv=5, n_jobs=-1)\n",
        "\n",
        "# fitting to training data\n",
        "grid_dtr.fit(X_train, y_train)\n",
        "\n",
        "# getting the best parameters\n",
        "print(grid_dtr.best_params_)"
      ]
    },
    {
      "cell_type": "code",
      "execution_count": null,
      "metadata": {
        "id": "khsTTDq0BiWD",
        "outputId": "41dbe437-a3b9-4848-bb89-e026f9256737"
      },
      "outputs": [
        {
          "name": "stdout",
          "output_type": "stream",
          "text": [
            "Decision Tree Regressor...\n",
            "RMSE : 94.36026611654378\n",
            "R2 Score : -0.07970521323105206\n",
            "\n",
            "\n",
            "\n",
            "Random Forest Regressor...\n",
            "RMSE : 91.63448809262415\n",
            "R2 Score : -0.018227448921503964\n"
          ]
        }
      ],
      "source": [
        "# implementing this recommendation\n",
        "# instantiating our regressors with the recommended parameters\n",
        "dtr = DecisionTreeRegressor(criterion=\"mse\", max_depth=2, min_samples_split=2)\n",
        "ens = RandomForestRegressor(criterion=\"mse\", max_depth=2, min_samples_split=2)\n",
        "\n",
        "# fitting to our training data\n",
        "dtr.fit(X_train, y_train)\n",
        "ens.fit(X_train, y_train)\n",
        "\n",
        "# making predictions\n",
        "pred_dtr = dtr.predict(X_test)\n",
        "pred_ens = ens.predict(X_test)\n",
        "\n",
        "# evaluating the RMSE and R2 scores\n",
        "print(\"Decision Tree Regressor...\")\n",
        "print(\"RMSE :\", np.sqrt(mean_squared_error(y_test, pred_dtr)))\n",
        "print(\"R2 Score :\", r2_score(y_test, pred_dtr))\n",
        "print(\"\\n\\n\")\n",
        "\n",
        "print(\"Random Forest Regressor...\")\n",
        "print(\"RMSE :\", np.sqrt(mean_squared_error(y_test, pred_ens)))\n",
        "print(\"R2 Score :\", r2_score(y_test, pred_ens))"
      ]
    },
    {
      "cell_type": "markdown",
      "metadata": {
        "id": "YuFQMJceBiWF"
      },
      "source": [
        "## 4.3 Modeling with Random Search"
      ]
    },
    {
      "cell_type": "code",
      "execution_count": null,
      "metadata": {
        "id": "Tht4XME9BiWF",
        "outputId": "abb78ef4-a1f9-4989-cc3a-fd65bb3ca1d7"
      },
      "outputs": [
        {
          "name": "stdout",
          "output_type": "stream",
          "text": [
            "{'min_samples_split': 3, 'max_depth': 2, 'criterion': 'friedman_mse'}\n"
          ]
        },
        {
          "name": "stderr",
          "output_type": "stream",
          "text": [
            "C:\\Users\\Lenovo\\Anaconda3\\lib\\site-packages\\sklearn\\model_selection\\_search.py:922: UserWarning: One or more of the test scores are non-finite: [        nan -0.02140953  0.06168524  0.06168524  0.06168524  0.0456522\n",
            " -0.31918255  0.0367348   0.0456522  -0.31918255  0.06168524         nan\n",
            "  0.05479889 -0.31918255         nan         nan -0.02140953  0.05479889\n",
            "         nan         nan]\n",
            "  warnings.warn(\n"
          ]
        }
      ],
      "source": [
        "# setting up our parameters and the respective distributions to sample from\n",
        "from sklearn.model_selection import RandomizedSearchCV\n",
        "\n",
        "params = {\n",
        "    \"criterion\": [\"mse\", \"friedman_mse\", \"mae\"],\n",
        "    \"min_samples_split\": [1, 2, 3],\n",
        "    \"max_depth\": [2, 3, 4]\n",
        "}\n",
        "# setting up the Random Search with our regressors with cv = 5 and n_jobs = -1\n",
        "rand_dtr = RandomizedSearchCV(DecisionTreeRegressor(), params, n_iter=20, cv=5, n_jobs=-1)\n",
        "\n",
        "# fitting to training data\n",
        "rand_dtr.fit(X_train, y_train)\n",
        "\n",
        "# getting the best parameters\n",
        "print(rand_dtr.best_params_)"
      ]
    },
    {
      "cell_type": "code",
      "execution_count": null,
      "metadata": {
        "id": "oc55zVBiBiWI",
        "outputId": "71dfaac9-b636-4c98-85f5-318f6473d7a8"
      },
      "outputs": [
        {
          "name": "stdout",
          "output_type": "stream",
          "text": [
            "Decision Tree Regressor...\n",
            "RMSE : 94.36026611654378\n",
            "R2 Score : -0.07970521323105206\n",
            "\n",
            "\n",
            "\n",
            "Random Forest Regressor...\n",
            "RMSE : 91.4799458743999\n",
            "R2 Score : -0.014795849351537882\n"
          ]
        }
      ],
      "source": [
        "# implementing this recommendation\n",
        "# instantiating our regressors using the recommended parameters\n",
        "dtr = DecisionTreeRegressor(criterion=\"friedman_mse\", min_samples_split=3, max_depth=2)\n",
        "ens = RandomForestRegressor(criterion=\"friedman_mse\", min_samples_split=3, max_depth=2)\n",
        "\n",
        "# fitting to our training data\n",
        "dtr.fit(X_train, y_train)\n",
        "ens.fit(X_train, y_train)\n",
        "\n",
        "# making predictions\n",
        "pred_dtr = dtr.predict(X_test)\n",
        "pred_ens = ens.predict(X_test)\n",
        "\n",
        "# evaluating the RMSE and R2 scores\n",
        "print(\"Decision Tree Regressor...\")\n",
        "print(\"RMSE :\", np.sqrt(mean_squared_error(y_test, pred_dtr)))\n",
        "print(\"R2 Score :\", r2_score(y_test, pred_dtr))\n",
        "print(\"\\n\\n\")\n",
        "\n",
        "print(\"Random Forest Regressor...\")\n",
        "print(\"RMSE :\", np.sqrt(mean_squared_error(y_test, pred_ens)))\n",
        "print(\"R2 Score :\", r2_score(y_test, pred_ens))"
      ]
    },
    {
      "cell_type": "markdown",
      "metadata": {
        "id": "H4FCkA4HBiWN"
      },
      "source": [
        "## 4.4 Modeling with Bayesian Optimization"
      ]
    },
    {
      "cell_type": "code",
      "execution_count": null,
      "metadata": {
        "id": "pg5dWBqNPJjC",
        "outputId": "6d78c3c8-c5aa-428d-826c-e9885058244f"
      },
      "outputs": [
        {
          "name": "stdout",
          "output_type": "stream",
          "text": [
            "Collecting hyperopt\n",
            "  Downloading hyperopt-0.2.7-py2.py3-none-any.whl (1.6 MB)\n",
            "Requirement already satisfied: cloudpickle in c:\\users\\lenovo\\anaconda3\\lib\\site-packages (from hyperopt) (1.6.0)\n",
            "Requirement already satisfied: scipy in c:\\users\\lenovo\\anaconda3\\lib\\site-packages (from hyperopt) (1.5.2)\n",
            "Requirement already satisfied: tqdm in c:\\users\\lenovo\\anaconda3\\lib\\site-packages (from hyperopt) (4.50.2)\n",
            "Requirement already satisfied: numpy in c:\\users\\lenovo\\anaconda3\\lib\\site-packages (from hyperopt) (1.19.2)\n",
            "Collecting py4j\n",
            "  Downloading py4j-0.10.9.3-py2.py3-none-any.whl (198 kB)\n",
            "Requirement already satisfied: future in c:\\users\\lenovo\\anaconda3\\lib\\site-packages (from hyperopt) (0.18.2)\n",
            "Requirement already satisfied: six in c:\\users\\lenovo\\anaconda3\\lib\\site-packages (from hyperopt) (1.15.0)\n",
            "Requirement already satisfied: networkx>=2.2 in c:\\users\\lenovo\\anaconda3\\lib\\site-packages (from hyperopt) (2.5)\n",
            "Requirement already satisfied: decorator>=4.3.0 in c:\\users\\lenovo\\anaconda3\\lib\\site-packages (from networkx>=2.2->hyperopt) (4.4.2)\n",
            "Installing collected packages: py4j, hyperopt\n",
            "Successfully installed hyperopt-0.2.7 py4j-0.10.9.3\n"
          ]
        }
      ],
      "source": [
        "!pip install hyperopt"
      ]
    },
    {
      "cell_type": "code",
      "execution_count": null,
      "metadata": {
        "id": "-cqA47BDPJjC",
        "outputId": "b538fd4c-0971-4a61-8360-9d861925261a"
      },
      "outputs": [
        {
          "data": {
            "text/plain": [
              "RandomState(MT19937) at 0x1D2BB8AB740"
            ]
          },
          "execution_count": 42,
          "metadata": {},
          "output_type": "execute_result"
        }
      ],
      "source": [
        "np.random.RandomState(42)"
      ]
    },
    {
      "cell_type": "code",
      "execution_count": null,
      "metadata": {
        "id": "17VcumC_BiWO",
        "outputId": "d77a0b30-4466-43e7-bd5e-977ab4baf5ff"
      },
      "outputs": [
        {
          "name": "stdout",
          "output_type": "stream",
          "text": [
            "100%|████████████████████████████████████████████████| 24/24 [00:03<00:00,  6.66trial/s, best loss: 1.0022225999102636]\n"
          ]
        },
        {
          "data": {
            "text/plain": [
              "{'max_depth': 3, 'max_features': 0.912757311135864}"
            ]
          },
          "execution_count": 47,
          "metadata": {},
          "output_type": "execute_result"
        }
      ],
      "source": [
        "# importing the hyperopt library and cross_val_score\n",
        "from sklearn.model_selection import cross_val_score\n",
        "from hyperopt import hp, fmin, tpe\n",
        "\n",
        "# setting up a space dictionary\n",
        "space_lr = {'max_depth': hp.randint('max_depth', 3, 10),\n",
        "            'max_features': hp.uniform('max_features', 0.8, 1)}\n",
        "\n",
        "\n",
        "# setting up our objective functions\n",
        "def gbm_cl_bo2(params):\n",
        "    params = {'max_depth': params['max_depth'],\n",
        "              'max_features': params['max_features']}\n",
        "    \n",
        "    dtr = DecisionTreeRegressor(random_state=111, **params)\n",
        "    best_score = cross_val_score(dtr, X_train, y_train, cv=5).mean()\n",
        "    return 1 - best_score\n",
        "\n",
        "# running our optimizers and setting max_evals to 100\n",
        "gbm_best_param = fmin(fn=gbm_cl_bo2,\n",
        "                space=space_lr,\n",
        "                max_evals=24,\n",
        "                algo=tpe.suggest)\n",
        "\n",
        "#printing our outcomes\n",
        "gbm_best_param"
      ]
    },
    {
      "cell_type": "code",
      "execution_count": null,
      "metadata": {
        "id": "PMtZPGJLBiWU",
        "outputId": "f7697e06-c1bf-4109-f387-15323bd3d368"
      },
      "outputs": [
        {
          "name": "stdout",
          "output_type": "stream",
          "text": [
            "Decision Tree Regressor...\n",
            "RMSE : 94.0164516405196\n",
            "R2 Score : -0.07185144161249402\n",
            "\n",
            "\n",
            "\n",
            "Random Forest Regressor...\n",
            "RMSE : 90.17134446984313\n",
            "R2 Score : 0.014029378809522042\n"
          ]
        }
      ],
      "source": [
        "# instantiating our regressors using the recommended parameters\n",
        "dtr = DecisionTreeRegressor(max_depth=3, max_features=0.9)\n",
        "ens = RandomForestRegressor(max_depth=3, max_features=0.9)\n",
        "\n",
        "# fitting to our training data\n",
        "dtr.fit(X_train, y_train)\n",
        "ens.fit(X_train, y_train)\n",
        "\n",
        "# making predictions\n",
        "pred_dtr = dtr.predict(X_test)\n",
        "pred_ens = ens.predict(X_test)\n",
        "\n",
        "# evaluating the RMSE and R2 scores\n",
        "print(\"Decision Tree Regressor...\")\n",
        "print(\"RMSE :\", np.sqrt(mean_squared_error(y_test, pred_dtr)))\n",
        "print(\"R2 Score :\", r2_score(y_test, pred_dtr))\n",
        "print(\"\\n\\n\")\n",
        "\n",
        "print(\"Random Forest Regressor...\")\n",
        "print(\"RMSE :\", np.sqrt(mean_squared_error(y_test, pred_ens)))\n",
        "print(\"R2 Score :\", r2_score(y_test, pred_ens))"
      ]
    },
    {
      "cell_type": "markdown",
      "metadata": {
        "id": "YFoZdpZaBiWX"
      },
      "source": [
        "# <font color='#2F4F4F'>5. Summary of Findings</font>\n",
        "\n",
        "Summarize your findings.\n",
        "\n",
        "The results are you can say the performance of all three Hyperparameter techniques is eqaul but the time taken by the techniques is really different. GridSearch CV takes a lot of time for only three paramters but random search takes less than Grid. And in the end Bayasian technique take almost no time. It trained and find the parameter very fast."
      ]
    },
    {
      "cell_type": "markdown",
      "metadata": {
        "id": "8l8X81g0BiWY"
      },
      "source": [
        "# <font color='#2F4F4F'>6. Recommendations</font>\n",
        "\n",
        "Provide your recommendations.\n",
        "\n",
        "Try to transform the numerical faeture into normal distribution and also perform correlation."
      ]
    },
    {
      "cell_type": "markdown",
      "metadata": {
        "id": "YQD7_7o8BiWZ"
      },
      "source": [
        "# <font color='#2F4F4F'>7. Challenging your Solution</font>\n",
        "\n",
        "### a) Did we have the right question?\n",
        "\n",
        "Yes\n",
        "\n",
        "\n",
        "### b) Did we have the right data?\n",
        "\n",
        "Yes\n",
        "\n",
        "### c) What can be done to improve the solution?\n",
        "\n",
        "Yes we can go with correlation of features to remove indetical features that can increase the accuracy of model.\n"
      ]
    }
  ],
  "metadata": {
    "colab": {
      "name": "Hyperparameter Tuning (Rent Price Prediction) Project.ipynb",
      "provenance": [],
      "collapsed_sections": []
    },
    "kernelspec": {
      "display_name": "Python 3",
      "language": "python",
      "name": "python3"
    },
    "language_info": {
      "codemirror_mode": {
        "name": "ipython",
        "version": 3
      },
      "file_extension": ".py",
      "mimetype": "text/x-python",
      "name": "python",
      "nbconvert_exporter": "python",
      "pygments_lexer": "ipython3",
      "version": "3.8.5"
    }
  },
  "nbformat": 4,
  "nbformat_minor": 0
}